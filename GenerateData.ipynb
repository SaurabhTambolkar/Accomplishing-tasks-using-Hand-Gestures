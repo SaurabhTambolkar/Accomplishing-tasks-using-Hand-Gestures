{
 "cells": [
  {
   "cell_type": "code",
   "execution_count": 1,
   "metadata": {
    "id": "XYs71GHmCBCX"
   },
   "outputs": [
    {
     "name": "stderr",
     "output_type": "stream",
     "text": [
      "C:\\Python310\\lib\\site-packages\\numpy\\_distributor_init.py:30: UserWarning: loaded more than 1 DLL from .libs:\n",
      "C:\\Python310\\lib\\site-packages\\numpy\\.libs\\libopenblas.EL2C6PLE4ZYW3ECEVIV3OXXGRN2NRFM2.gfortran-win_amd64.dll\n",
      "C:\\Python310\\lib\\site-packages\\numpy\\.libs\\libopenblas.XWYDX2IKJW2NMTWSFYNGFUWKQU3LYTCZ.gfortran-win_amd64.dll\n",
      "  warnings.warn(\"loaded more than 1 DLL from .libs:\"\n"
     ]
    }
   ],
   "source": [
    "import os\n",
    "import cv2\n",
    "import imutils\n",
    "import numpy as np\n",
    "from PIL import Image"
   ]
  },
  {
   "cell_type": "code",
   "execution_count": 5,
   "metadata": {
    "id": "WN2JzOyuCFvw"
   },
   "outputs": [],
   "source": [
    "def ReshapeImages(FolderName):\n",
    "  # Reshape Images into 100x89\n",
    "  files = os.listdir(FolderName)\n",
    "  for i in files:\n",
    "    img = Image.open(FolderName + \"/\" + i) \n",
    "    img = img.resize((100, int((float((100 / float(img.size[0]))) * float(img.size[1])))), Image.ANTIALIAS)\n",
    "    img.save(FolderName + \"/\" + i)"
   ]
  },
  {
   "cell_type": "code",
   "execution_count": 6,
   "metadata": {
    "id": "Aq6EnFc7CN4S"
   },
   "outputs": [],
   "source": [
    "def CreateData(FolderPath, ImageName = \"palm\", start_index = 0, Number_of_Images = 100, Number_of_Frames = 30):\n",
    "  sr = False #Flag to start Recording\n",
    "  checker = None\n",
    "  frames, image_index= 0, start_index\n",
    "  camera = cv2.VideoCapture(0)\n",
    "  pt,  pb = 10, 225\n",
    "  pr, pl = 350, 590\n",
    "\n",
    "  while(1):\n",
    "      (g, f) = camera.read()\n",
    "      if g:\n",
    "          f = cv2.flip(imutils.resize(f, width=700), 1)\n",
    "          (height, width) = f.shape[:2]\n",
    "          img_cpy = f.copy()\n",
    "          gray = cv2.GaussianBlur(cv2.cvtColor(f[pt:pb, pr:pl], cv2.COLOR_BGR2GRAY), (7, 7), 0)\n",
    "          \n",
    "\n",
    "          if frames < Number_of_Frames:\n",
    "              if checker is None:\n",
    "                   checker = gray.copy().astype(\"float\")\n",
    "              else:\n",
    "                  cv2.accumulateWeighted(gray, checker, 0.5)\n",
    "          else:\n",
    "              y = cv2.threshold(cv2.absdiff(checker.astype(\"uint8\"), gray), 25, 255, cv2.THRESH_BINARY)[1]\n",
    "              (x, _) = cv2.findContours(y.copy(), cv2.RETR_EXTERNAL, cv2.CHAIN_APPROX_SIMPLE)\n",
    "              if 0 != len(x):\n",
    "                h = (y, max(x, key=cv2.contourArea))\n",
    "                if h is not None:\n",
    "                  (t, s) = h\n",
    "                  cv2.drawContours(img_cpy, [(pr, pt) + s], -1, (0, 0, 255))\n",
    "                  if sr == True:\n",
    "                      cv2.imwrite(FolderPath + \"/\" + ImageName + str(image_index) + '.png', t)\n",
    "                      image_index = image_index + 1\n",
    "                  cv2.imshow(\"Gray Image\", t)\n",
    "\n",
    "          cv2.rectangle(img_cpy, (pl, pt), (pr, pb), (0, 255, 0), 2)\n",
    "          frames = frames + 1\n",
    "\n",
    "          cv2.imshow(\"Data Collection Window\", img_cpy)\n",
    "          k = cv2.waitKey(1) & 0xFF\n",
    "\n",
    "          if  start_index + Number_of_Images < image_index:\n",
    "              break\n",
    "          elif k == ord(\"a\"):\n",
    "              sr = True\n",
    "      else:\n",
    "          break\n",
    "  camera.release()\n",
    "  cv2.destroyAllWindows()\n",
    "  ReshapeImages(FolderPath)"
   ]
  },
  {
   "cell_type": "code",
   "execution_count": 8,
   "metadata": {
    "id": "1rF8nW2ECYPb"
   },
   "outputs": [],
   "source": [
    "#this will create 100 images data\n",
    "CreateData(\"kara/thums_up\",\"thums_up\",0)"
   ]
  },
  {
   "cell_type": "code",
   "execution_count": null,
   "metadata": {},
   "outputs": [],
   "source": []
  }
 ],
 "metadata": {
  "colab": {
   "provenance": []
  },
  "kernelspec": {
   "display_name": "Python 3 (ipykernel)",
   "language": "python",
   "name": "python3"
  },
  "language_info": {
   "codemirror_mode": {
    "name": "ipython",
    "version": 3
   },
   "file_extension": ".py",
   "mimetype": "text/x-python",
   "name": "python",
   "nbconvert_exporter": "python",
   "pygments_lexer": "ipython3",
   "version": "3.10.0"
  }
 },
 "nbformat": 4,
 "nbformat_minor": 1
}
